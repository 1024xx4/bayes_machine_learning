{
 "cells": [
  {
   "cell_type": "markdown",
   "source": [
    "## 近似推論手法\n",
    "事後分布の近似推論法\n",
    "- マルコフ連鎖モンテカルロ法（MCMC）\n",
    "- 変分推論法\n",
    "\n",
    "Bayes推論が真価を発揮するような複雑な Model においては、事後分布を解析的に求めることは難しく、Parameter の事後分布の近似推論が必要になる。"
   ],
   "metadata": {
    "collapsed": false
   }
  },
  {
   "cell_type": "markdown",
   "source": [
    "### マルコフ連鎖モンテカルロ法（MCMC: Markov chain Monte Carlo methods）\n",
    "Parameter の事後分布を明示的に求める代わりに、事後分布に従う乱数（Sample）を得ることで分布の性質を確認する手法。\n",
    "事後分布に従う Sample を得ることで、事後分布で関心のある統計量を求めることができる。"
   ],
   "metadata": {
    "collapsed": false
   }
  },
  {
   "cell_type": "markdown",
   "source": [
    "| 用語                            | 内容                       |\n",
    "|-------------------------------|--------------------------|\n",
    "| マルコフ連鎖（Markov Chain）          | 確率変数の系列において、１つ前の値（状態）に基づき、次の値（状態）が決まる場合の系列のこと。 |\n",
    "| 遷移確率（Transition Probability）  | １つ前の値のとき次の値になる条件確率       |\n",
    "| 定常分布（Stationary Distribution） | Markov連鎖において十分な期間の経過後、変化しなくなった確率分布 |\n",
    "| エルゴード性（ergodicity）            | 初期値にかかわらず、定常分布に収束する性質。   |"
   ],
   "metadata": {
    "collapsed": false
   }
  },
  {
   "cell_type": "markdown",
   "source": [],
   "metadata": {
    "collapsed": false
   }
  },
  {
   "cell_type": "code",
   "execution_count": null,
   "outputs": [],
   "source": [],
   "metadata": {
    "collapsed": false
   }
  }
 ],
 "metadata": {
  "kernelspec": {
   "display_name": "Python 3",
   "language": "python",
   "name": "python3"
  },
  "language_info": {
   "codemirror_mode": {
    "name": "ipython",
    "version": 2
   },
   "file_extension": ".py",
   "mimetype": "text/x-python",
   "name": "python",
   "nbconvert_exporter": "python",
   "pygments_lexer": "ipython2",
   "version": "2.7.6"
  }
 },
 "nbformat": 4,
 "nbformat_minor": 0
}
