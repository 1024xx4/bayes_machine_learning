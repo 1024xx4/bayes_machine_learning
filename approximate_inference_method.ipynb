{
 "cells": [
  {
   "cell_type": "code",
   "execution_count": 1,
   "outputs": [],
   "source": [
    "# Default Libraries\n",
    "import numpy as np\n",
    "import pandas as pd\n",
    "from scipy import stats\n",
    "import seaborn as sns\n",
    "import matplotlib.pyplot as plt\n",
    "import arviz as az"
   ],
   "metadata": {
    "collapsed": false
   }
  },
  {
   "cell_type": "markdown",
   "source": [
    "## 近似推論手法\n",
    "事後分布の近似推論法\n",
    "- マルコフ連鎖モンテカルロ法（MCMC）\n",
    "- 変分推論法\n",
    "\n",
    "Bayes推論が真価を発揮するような複雑な Model においては、事後分布を解析的に求めることは難しく、Parameter の事後分布の近似推論が必要になる。"
   ],
   "metadata": {
    "collapsed": false
   }
  },
  {
   "cell_type": "markdown",
   "source": [
    "### マルコフ連鎖モンテカルロ法（MCMC: Markov chain Monte Carlo methods）\n",
    "Parameter の事後分布を明示的に求める代わりに、事後分布に従う乱数（Sample）を得ることで分布の性質を確認する手法。\n",
    "事後分布に従う Sample を得ることで、事後分布で関心のある統計量を求めることができる。"
   ],
   "metadata": {
    "collapsed": false
   }
  },
  {
   "cell_type": "markdown",
   "source": [
    "| 用語                            | 内容                       |\n",
    "|-------------------------------|--------------------------|\n",
    "| マルコフ連鎖（Markov Chain）          | 確率変数の系列において、１つ前の値（状態）に基づき、次の値（状態）が決まる場合の系列のこと。 |\n",
    "| 遷移確率（Transition Probability）  | １つ前の値のとき次の値になる条件確率       |\n",
    "| 定常分布（Stationary Distribution） | Markov連鎖において十分な期間の経過後、変化しなくなった確率分布 |\n",
    "| エルゴード性（ergodicity）            | 初期値にかかわらず、定常分布に収束する性質。   |"
   ],
   "metadata": {
    "collapsed": false
   }
  },
  {
   "cell_type": "markdown",
   "source": [],
   "metadata": {
    "collapsed": false
   }
  },
  {
   "cell_type": "markdown",
   "source": [
    "### モンテカルロ法（Monte Carlo Method）\n",
    "乱数を用いた数値計算の総称。乱数は、確率分布に従って生成される Random な値。"
   ],
   "metadata": {
    "collapsed": false
   }
  },
  {
   "cell_type": "code",
   "execution_count": 2,
   "outputs": [],
   "source": [
    "# Example: 平均0, 標準偏差1 の Gauss分布N(0, 1)(=標準正規分布)の確率密度関数f(z) の [-2, 2]の区間での積分を計算\n",
    "def montecarlo(M, trial=100, seed=1):\n",
    "    \"\"\"\n",
    "    M個の sample による Montecarlo法を trial回繰り返し、推定値の平均と標準偏差を返す\n",
    "    :param M: Sample数\n",
    "    :param trial: 試行回数\n",
    "    :param seed: 乱数の種\n",
    "    :return: 推定値の平均と標準偏差\n",
    "    \"\"\"\n",
    "    np.random.seed(seed)\n",
    "    x = np.random.uniform(-2, 2, (M, trial))\n",
    "    res = 4 * stats.norm(0, 1).pdf(x).mean(axis=0)\n",
    "    return res.mean(), res.std()"
   ],
   "metadata": {
    "collapsed": false
   }
  },
  {
   "cell_type": "code",
   "execution_count": 4,
   "outputs": [
    {
     "name": "stdout",
     "output_type": "stream",
     "text": [
      "ground truth: 0.9545\n",
      "M= 100, estimation: 0.9574 ± 0.0426\n",
      "M= 1000, estimation: 0.9520 ± 0.0144\n",
      "M= 10000, estimation: 0.9548 ± 0.0048\n",
      "M= 100000, estimation: 0.9543 ± 0.0015\n"
     ]
    },
    {
     "data": {
      "text/plain": "<Figure size 640x480 with 1 Axes>",
      "image/png": "[encoded data removed]"
     },
     "metadata": {},
     "output_type": "display_data"
    }
   ],
   "source": [
    "# 求めたい積分値の真の値\n",
    "ground_truth = stats.norm(0, 1).cdf(2) - stats.norm(0, 1).cdf(-2)\n",
    "print(f\"ground truth: {ground_truth:.4f}\")\n",
    "\n",
    "M_list = [100, 1_000, 10_000, 100_000]\n",
    "fig, ax = plt.subplots()\n",
    "for M in M_list:\n",
    "    m, s = montecarlo(M)\n",
    "    print(f\"M= {M}, estimation: {m:.4f} ± {s:.4f}\")\n",
    "    ax.scatter(M, m, c=\"b\", marker=\"x\")\n",
    "    ax.errorbar(M, m, s, capsize=3, c=\"b\")"
   ],
   "metadata": {
    "collapsed": false
   }
  },
  {
   "cell_type": "markdown",
   "source": [
    "### MCMC の Algorithm\n",
    "興味のある Parameter の事後分布（目標分布）が定常分布になるように、うまく Markov連鎖の遷移確率を設計し、目標分布からの Sample を取得する。\n",
    "- **詳細釣り合い条件（Detailed Balance Condition）** によって、Markov連鎖が目標分布に収束することが知られている。\n",
    "- 一般的に MCMC は釣り詳細釣り合い条件を満たしている。（厳密にいうと満たさない Algorithm もある。）\n",
    "- 各 MCMC-Algorithm の違いは詳細釣り合い条件を満たす遷移確率の作り方にある。"
   ],
   "metadata": {
    "collapsed": false
   }
  },
  {
   "cell_type": "markdown",
   "source": [
    "### メトロポリス・ヘイスティングス法（MH法: Metropolis-Hastings Algorithm）\n",
    "- **提案分布（Proposal Distribution）** を導入し、提案分布から得られた Sample を Metropolis-Hastings基準という判定法に従い受容or棄却することによって詳細釣り合い条件を満たし目標分したがう１ Sample を得る。\n",
    "- 提案分布に従う Sample（乱数）を用いた近似計算という意味で、Montecarlo法の一種と言える。\n",
    "- 提案分布として Gauss分布を用いた手法は **ランダムウォークMH法** と呼ばれる。"
   ],
   "metadata": {
    "collapsed": false
   }
  },
  {
   "cell_type": "code",
   "execution_count": null,
   "outputs": [],
   "source": [],
   "metadata": {
    "collapsed": false
   }
  }
 ],
 "metadata": {
  "kernelspec": {
   "display_name": "Python 3",
   "language": "python",
   "name": "python3"
  },
  "language_info": {
   "codemirror_mode": {
    "name": "ipython",
    "version": 2
   },
   "file_extension": ".py",
   "mimetype": "text/x-python",
   "name": "python",
   "nbconvert_exporter": "python",
   "pygments_lexer": "ipython2",
   "version": "2.7.6"
  }
 },
 "nbformat": 4,
 "nbformat_minor": 0
}
