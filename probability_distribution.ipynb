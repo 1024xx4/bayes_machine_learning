{
 "cells": [
  {
   "cell_type": "markdown",
   "source": [
    "# Bayesian Modeling"
   ],
   "metadata": {
    "collapsed": false
   }
  },
  {
   "cell_type": "markdown",
   "source": [
    "## 代表的な確率分布"
   ],
   "metadata": {
    "collapsed": false
   }
  },
  {
   "cell_type": "code",
   "execution_count": 19,
   "outputs": [],
   "source": [
    "import numpy as np\n",
    "import matplotlib.pyplot as plt\n",
    "import scipy.stats as stats\n",
    "\n",
    "# Seed を固定\n",
    "np.random.seed(394)"
   ],
   "metadata": {
    "collapsed": false
   }
  },
  {
   "cell_type": "markdown",
   "source": [
    "### ベルヌーイ分布（Bernoulli Distribution）"
   ],
   "metadata": {
    "collapsed": false
   }
  },
  {
   "cell_type": "code",
   "execution_count": 20,
   "outputs": [],
   "source": [
    "# Parameter が θ = 0.6 となるような Bernoulli分布を作成\n",
    "d = stats.bernoulli(0.6)"
   ],
   "metadata": {
    "collapsed": false
   }
  },
  {
   "cell_type": "code",
   "execution_count": 21,
   "outputs": [
    {
     "data": {
      "text/plain": "array([1, 1, 1, 0, 0, 0, 0, 1, 1, 0, 0, 1, 0, 1, 1, 1, 1, 1, 1, 1, 1, 0,\n       1, 0, 0, 1, 1, 0, 0, 1, 1, 1, 1, 0, 1, 0, 0, 1, 1, 0, 1, 0, 0, 1,\n       0, 0, 0, 1, 1, 0, 0, 0, 1, 1, 1, 1, 0, 0, 1, 1, 1, 0, 0, 1, 1, 0,\n       1, 1, 0, 1, 1, 1, 0, 0, 1, 0, 0, 1, 1, 0, 0, 0, 1, 0, 1, 1, 1, 0,\n       1, 1, 0, 0, 1, 0, 1, 1, 1, 1, 0, 1])"
     },
     "execution_count": 21,
     "metadata": {},
     "output_type": "execute_result"
    }
   ],
   "source": [
    "# Sample を100個生成\n",
    "X = d.rvs(100)\n",
    "X"
   ],
   "metadata": {
    "collapsed": false
   }
  },
  {
   "cell_type": "code",
   "execution_count": 22,
   "outputs": [
    {
     "data": {
      "text/plain": "57"
     },
     "execution_count": 22,
     "metadata": {},
     "output_type": "execute_result"
    }
   ],
   "source": [
    "# 1 となった Sample数を合計する\n",
    "sum(X)"
   ],
   "metadata": {
    "collapsed": false
   }
  },
  {
   "cell_type": "markdown",
   "source": [
    "おおよそ全体の６割ほどであることが確認できる。"
   ],
   "metadata": {
    "collapsed": false
   }
  },
  {
   "cell_type": "code",
   "execution_count": 23,
   "outputs": [
    {
     "name": "stdout",
     "output_type": "stream",
     "text": [
      "0.4 0.6\n"
     ]
    }
   ],
   "source": [
    "# x=0, x=1 の場値のPMF(確率質量関数)を確認\n",
    "print(d.pmf(0), d.pmf(1))"
   ],
   "metadata": {
    "collapsed": false
   }
  },
  {
   "cell_type": "code",
   "execution_count": 25,
   "outputs": [
    {
     "data": {
      "text/plain": "<BarContainer object of 2 artists>"
     },
     "execution_count": 25,
     "metadata": {},
     "output_type": "execute_result"
    },
    {
     "data": {
      "text/plain": "<Figure size 640x480 with 1 Axes>",
      "image/png": "[encoded data removed]"
     },
     "metadata": {},
     "output_type": "display_data"
    }
   ],
   "source": [
    "# 分布の形状を出力\n",
    "plt.bar([0, 1], d.pmf([0, 1]))  # 実現値の確率質量関数の値を棒 Graph で表現"
   ],
   "metadata": {
    "collapsed": false
   }
  },
  {
   "cell_type": "code",
   "execution_count": 28,
   "outputs": [
    {
     "name": "stdout",
     "output_type": "stream",
     "text": [
      "平均: 0.6, 分散: 0.24\n"
     ]
    }
   ],
   "source": [
    "# 定義したした確率分布から各種統計量（平均や分散など）を求める\n",
    "print(f\"平均: {d.mean()}, 分散: {d.var()}\")"
   ],
   "metadata": {
    "collapsed": false
   }
  },
  {
   "cell_type": "markdown",
   "source": [
    "### カテゴリ分布（Categorical Distribution）\n",
    "- 試行回数 N=1 の多項分布（Multinomial Distribution）とも呼ばれる。\n",
    "- ベルヌーイ分布の３変数以上の拡張であるともいえる。"
   ],
   "metadata": {
    "collapsed": false
   }
  },
  {
   "cell_type": "code",
   "execution_count": 30,
   "outputs": [
    {
     "data": {
      "text/plain": "array([[1, 0, 0, 0],\n       [0, 0, 0, 1],\n       [0, 0, 1, 0],\n       [0, 0, 0, 1],\n       [0, 0, 0, 1],\n       [0, 0, 1, 0],\n       [0, 0, 1, 0],\n       [0, 0, 1, 0],\n       [1, 0, 0, 0],\n       [0, 0, 1, 0],\n       [0, 1, 0, 0],\n       [0, 0, 0, 1],\n       [0, 0, 0, 1],\n       [0, 0, 0, 1],\n       [1, 0, 0, 0],\n       [0, 0, 0, 1],\n       [0, 1, 0, 0],\n       [0, 0, 0, 1],\n       [0, 0, 0, 1],\n       [0, 0, 0, 1],\n       [0, 0, 1, 0],\n       [1, 0, 0, 0],\n       [0, 0, 0, 1],\n       [0, 0, 0, 1],\n       [0, 0, 1, 0],\n       [1, 0, 0, 0],\n       [0, 0, 0, 1],\n       [1, 0, 0, 0],\n       [1, 0, 0, 0],\n       [0, 0, 0, 1],\n       [0, 0, 0, 1],\n       [0, 0, 0, 1],\n       [0, 1, 0, 0],\n       [0, 0, 0, 1],\n       [0, 0, 0, 1],\n       [0, 0, 0, 1],\n       [0, 1, 0, 0],\n       [0, 0, 0, 1],\n       [0, 0, 1, 0],\n       [0, 0, 0, 1],\n       [1, 0, 0, 0],\n       [0, 0, 0, 1],\n       [0, 1, 0, 0],\n       [0, 0, 1, 0],\n       [0, 1, 0, 0],\n       [0, 1, 0, 0],\n       [0, 0, 0, 1],\n       [0, 0, 0, 1],\n       [1, 0, 0, 0],\n       [0, 0, 0, 1],\n       [0, 0, 1, 0],\n       [0, 0, 1, 0],\n       [0, 0, 1, 0],\n       [0, 0, 0, 1],\n       [0, 1, 0, 0],\n       [0, 0, 1, 0],\n       [0, 1, 0, 0],\n       [0, 1, 0, 0],\n       [0, 0, 0, 1],\n       [0, 1, 0, 0],\n       [0, 0, 0, 1],\n       [0, 0, 1, 0],\n       [0, 0, 1, 0],\n       [0, 0, 0, 1],\n       [0, 0, 0, 1],\n       [1, 0, 0, 0],\n       [0, 1, 0, 0],\n       [0, 0, 1, 0],\n       [1, 0, 0, 0],\n       [0, 1, 0, 0],\n       [0, 0, 0, 1],\n       [0, 0, 1, 0],\n       [0, 1, 0, 0],\n       [0, 0, 1, 0],\n       [0, 0, 0, 1],\n       [0, 0, 0, 1],\n       [0, 1, 0, 0],\n       [0, 1, 0, 0],\n       [0, 1, 0, 0],\n       [0, 0, 1, 0],\n       [0, 0, 1, 0],\n       [0, 0, 0, 1],\n       [0, 0, 1, 0],\n       [0, 0, 0, 1],\n       [0, 0, 1, 0],\n       [0, 1, 0, 0],\n       [0, 0, 0, 1],\n       [0, 0, 0, 1],\n       [0, 0, 0, 1],\n       [0, 1, 0, 0],\n       [0, 0, 0, 1],\n       [0, 1, 0, 0],\n       [0, 0, 1, 0],\n       [1, 0, 0, 0],\n       [0, 0, 0, 1],\n       [0, 0, 0, 1],\n       [0, 0, 1, 0],\n       [1, 0, 0, 0],\n       [0, 0, 1, 0],\n       [0, 0, 1, 0]])"
     },
     "execution_count": 30,
     "metadata": {},
     "output_type": "execute_result"
    }
   ],
   "source": [
    "# N=1 の多項分布としてカテゴリ分布を定義\n",
    "cat_dist = stats.multinomial(1, [0.1, 0.2, 0.3, 0.4])\n",
    "\n",
    "# K=4\n",
    "K = len(cat_dist.p)\n",
    "\n",
    "# 定義したカテゴリ分布から 100個の Sample を生成\n",
    "X_onehot = cat_dist.rvs(100)\n",
    "X_onehot"
   ],
   "metadata": {
    "collapsed": false
   }
  },
  {
   "cell_type": "code",
   "execution_count": 31,
   "outputs": [
    {
     "data": {
      "text/plain": "[0,\n 3,\n 2,\n 3,\n 3,\n 2,\n 2,\n 2,\n 0,\n 2,\n 1,\n 3,\n 3,\n 3,\n 0,\n 3,\n 1,\n 3,\n 3,\n 3,\n 2,\n 0,\n 3,\n 3,\n 2,\n 0,\n 3,\n 0,\n 0,\n 3,\n 3,\n 3,\n 1,\n 3,\n 3,\n 3,\n 1,\n 3,\n 2,\n 3,\n 0,\n 3,\n 1,\n 2,\n 1,\n 1,\n 3,\n 3,\n 0,\n 3,\n 2,\n 2,\n 2,\n 3,\n 1,\n 2,\n 1,\n 1,\n 3,\n 1,\n 3,\n 2,\n 2,\n 3,\n 3,\n 0,\n 1,\n 2,\n 0,\n 1,\n 3,\n 2,\n 1,\n 2,\n 3,\n 3,\n 1,\n 1,\n 1,\n 2,\n 2,\n 3,\n 2,\n 3,\n 2,\n 1,\n 3,\n 3,\n 3,\n 1,\n 3,\n 1,\n 2,\n 0,\n 3,\n 3,\n 2,\n 0,\n 2,\n 2]"
     },
     "execution_count": 31,
     "metadata": {},
     "output_type": "execute_result"
    }
   ],
   "source": [
    "# one-hot表現から自然数に変換する\n",
    "X = [np.argmax(x) for x in X_onehot]\n",
    "X"
   ],
   "metadata": {
    "collapsed": false
   }
  },
  {
   "cell_type": "code",
   "execution_count": 32,
   "outputs": [
    {
     "data": {
      "text/plain": "(array([13., 20., 26., 41.]),\n array([0., 1., 2., 3., 4.]),\n <BarContainer object of 4 artists>)"
     },
     "execution_count": 32,
     "metadata": {},
     "output_type": "execute_result"
    },
    {
     "data": {
      "text/plain": "<Figure size 640x480 with 1 Axes>",
      "image/png": "[encoded data removed]"
     },
     "metadata": {},
     "output_type": "display_data"
    }
   ],
   "source": [
    "# Histogram を描く（K に応じて bins の値を設定）\n",
    "plt.hist(X, bins=range(K + 1))"
   ],
   "metadata": {
    "collapsed": false
   }
  },
  {
   "cell_type": "code",
   "execution_count": 33,
   "outputs": [
    {
     "data": {
      "text/plain": "array([[1., 0., 0., 0.],\n       [0., 1., 0., 0.],\n       [0., 0., 1., 0.],\n       [0., 0., 0., 1.]])"
     },
     "execution_count": 33,
     "metadata": {},
     "output_type": "execute_result"
    }
   ],
   "source": [
    "# 確率質量関数を可視化するため、X の値を one-hot表現に変換\n",
    "X_tmp = np.identity(K)[range(K)]\n",
    "X_tmp"
   ],
   "metadata": {
    "collapsed": false
   }
  },
  {
   "cell_type": "code",
   "execution_count": 34,
   "outputs": [
    {
     "data": {
      "text/plain": "<BarContainer object of 4 artists>"
     },
     "execution_count": 34,
     "metadata": {},
     "output_type": "execute_result"
    },
    {
     "data": {
      "text/plain": "<Figure size 640x480 with 1 Axes>",
      "image/png": "[encoded data removed]"
     },
     "metadata": {},
     "output_type": "display_data"
    }
   ],
   "source": [
    "# PMF（確率質量関数）を可視化\n",
    "plt.bar(range(K), cat_dist.pmf(X_tmp))"
   ],
   "metadata": {
    "collapsed": false
   }
  },
  {
   "cell_type": "markdown",
   "source": [
    "### 二項分布（binomial Distribution）\n",
    "- Bernoulli分布の多試行版"
   ],
   "metadata": {
    "collapsed": false
   }
  },
  {
   "cell_type": "code",
   "execution_count": 41,
   "outputs": [
    {
     "data": {
      "text/plain": "array([0, 2, 4, 1, 0, 0, 2, 0, 0, 1, 3, 4, 1, 0, 1, 1, 1, 1, 1, 3, 1, 3,\n       2, 2, 1, 1, 2, 2, 3, 1, 3, 1, 1, 2, 0, 2, 1, 2, 1, 2, 2, 0, 4, 0,\n       1, 2, 1, 2, 0, 2, 2, 2, 2, 1, 1, 0, 2, 2, 0, 3, 1, 2, 2, 0, 0, 3,\n       2, 3, 1, 4, 1, 0, 1, 1, 2, 4, 0, 1, 1, 2, 3, 3, 2, 3, 1, 1, 1, 4,\n       3, 1, 1, 0, 3, 2, 1, 2, 2, 0, 2, 1])"
     },
     "execution_count": 41,
     "metadata": {},
     "output_type": "execute_result"
    }
   ],
   "source": [
    "# 二項分布を定義\n",
    "N = 8\n",
    "theta = 0.2\n",
    "bin_dist = stats.binom(N, theta)\n",
    "\n",
    "# 定義した二項分布から 100個の Sample を生成\n",
    "X = bin_dist.rvs(100)\n",
    "X"
   ],
   "metadata": {
    "collapsed": false
   }
  },
  {
   "cell_type": "code",
   "execution_count": 42,
   "outputs": [
    {
     "name": "stdout",
     "output_type": "stream",
     "text": [
      "average: 1.55\n",
      "variance: 1.2275\n"
     ]
    },
    {
     "data": {
      "text/plain": "(array([18., 34., 29., 13.,  6.,  0.,  0.,  0.]),\n array([0., 1., 2., 3., 4., 5., 6., 7., 8.]),\n <BarContainer object of 8 artists>)"
     },
     "execution_count": 42,
     "metadata": {},
     "output_type": "execute_result"
    },
    {
     "data": {
      "text/plain": "<Figure size 640x480 with 1 Axes>",
      "image/png": "[encoded data removed]"
     },
     "metadata": {},
     "output_type": "display_data"
    }
   ],
   "source": [
    "# Sample から平均を計算\n",
    "print(f\"average: {np.mean(X)}\")\n",
    "\n",
    "# Sample から分散を計算\n",
    "print(f\"variance: {np.std(X) ** 2}\")\n",
    "\n",
    "# Histogram を描く\n",
    "plt.hist(X, range(N + 1))"
   ],
   "metadata": {
    "collapsed": false
   }
  },
  {
   "cell_type": "code",
   "execution_count": 43,
   "outputs": [
    {
     "data": {
      "text/plain": "<BarContainer object of 9 artists>"
     },
     "execution_count": 43,
     "metadata": {},
     "output_type": "execute_result"
    },
    {
     "data": {
      "text/plain": "<Figure size 640x480 with 1 Axes>",
      "image/png": "[encoded data removed]"
     },
     "metadata": {},
     "output_type": "display_data"
    }
   ],
   "source": [
    "# 確率質量関数の描画\n",
    "ar = np.arange(0, N + 1)\n",
    "plt.bar(ar, bin_dist.pmf(ar))"
   ],
   "metadata": {
    "collapsed": false
   }
  },
  {
   "cell_type": "code",
   "execution_count": 44,
   "outputs": [
    {
     "data": {
      "text/plain": "<Figure size 1200x300 with 3 Axes>",
      "image/png": "[encoded data removed]"
     },
     "metadata": {},
     "output_type": "display_data"
    }
   ],
   "source": [
    "# 二項分布の Parameter を変えてみて、確率質量関数の変化を見てみる\n",
    "fig, axes = plt.subplots(1, 3, figsize=(12, 3))\n",
    "params = [0.1, 0.5, 0.9]\n",
    "for i, param in enumerate(params):\n",
    "    bin_dist = stats.binom(N, param)\n",
    "    axes[i].bar(ar, bin_dist.pmf(ar))\n",
    "    axes[i].set_title(f\"theta = {param}\")"
   ],
   "metadata": {
    "collapsed": false
   }
  },
  {
   "cell_type": "code",
   "execution_count": null,
   "outputs": [],
   "source": [],
   "metadata": {
    "collapsed": false
   }
  }
 ],
 "metadata": {
  "kernelspec": {
   "display_name": "Python 3",
   "language": "python",
   "name": "python3"
  },
  "language_info": {
   "codemirror_mode": {
    "name": "ipython",
    "version": 2
   },
   "file_extension": ".py",
   "mimetype": "text/x-python",
   "name": "python",
   "nbconvert_exporter": "python",
   "pygments_lexer": "ipython2",
   "version": "2.7.6"
  }
 },
 "nbformat": 4,
 "nbformat_minor": 0
}
